{
 "cells": [
  {
   "cell_type": "code",
   "execution_count": 2,
   "id": "052512ba",
   "metadata": {},
   "outputs": [
    {
     "data": {
      "text/plain": [
       "35"
      ]
     },
     "execution_count": 2,
     "metadata": {},
     "output_type": "execute_result"
    }
   ],
   "source": [
    "#question1\n",
    "def max(a,b,c):\n",
    "    if a<b and a<c and b<c :\n",
    "        return(c)\n",
    "    elif a>b and a>c and b>c:\n",
    "        return(a)\n",
    "    else:\n",
    "        return(b)\n",
    "max(20,35,19)\n",
    "        "
   ]
  },
  {
   "cell_type": "code",
   "execution_count": 18,
   "id": "14b28c00",
   "metadata": {},
   "outputs": [
    {
     "name": "stdout",
     "output_type": "stream",
     "text": [
      "(50, 30)\n"
     ]
    }
   ],
   "source": [
    "#question2\n",
    "def calculation(a,b):\n",
    "    add=a+b\n",
    "    sub=a-b\n",
    "    return add,sub    \n",
    "k= calculation(40, 10)\n",
    "print(k)\n",
    "\n",
    "    "
   ]
  },
  {
   "cell_type": "code",
   "execution_count": 81,
   "id": "fb135d2a",
   "metadata": {},
   "outputs": [
    {
     "name": "stdout",
     "output_type": "stream",
     "text": [
      "69\n",
      "3240\n"
     ]
    }
   ],
   "source": [
    "#question3\n",
    "liste= [63, 9, 1, 12, 5, 30]\n",
    "n = len(liste)\n",
    "def mult(liste):\n",
    "    result=1\n",
    "    for x in liste:\n",
    "        result=result*x\n",
    "    return result\n",
    "def num(a, n):\n",
    "    k = sum(a[::2])\n",
    "    c = a[1::2]\n",
    "    print(k)\n",
    "    print(mult(c))\n",
    "num(liste,n)"
   ]
  },
  {
   "cell_type": "code",
   "execution_count": 88,
   "id": "25ba7faf",
   "metadata": {},
   "outputs": [
    {
     "name": "stdout",
     "output_type": "stream",
     "text": [
      "black-green-red-white-yellow\n"
     ]
    }
   ],
   "source": [
    "#question4\n",
    "liste=[\"green\",\"red\",\"yellow\",\"black\",\"white\"]\n",
    "\n",
    "liste.sort()\n",
    "print('-'.join(liste))"
   ]
  },
  {
   "cell_type": "code",
   "execution_count": 91,
   "id": "a66ae857",
   "metadata": {},
   "outputs": [
    {
     "name": "stdout",
     "output_type": "stream",
     "text": [
      "Provide D: 10\n",
      "[6]\n"
     ]
    }
   ],
   "source": [
    "#question5\n",
    "import math\n",
    "\n",
    "numbers = input(\"Provide D: \")\n",
    "numbers = numbers.split(',')\n",
    "\n",
    "result_list = []\n",
    "for D in numbers:\n",
    "    Q = round(math.sqrt(2 * 50 * int(D) / 30))\n",
    "    result_list.append(Q)\n",
    "\n",
    "print(result_list)\n",
    "\n",
    " "
   ]
  },
  {
   "cell_type": "code",
   "execution_count": null,
   "id": "36e97dbb",
   "metadata": {},
   "outputs": [],
   "source": []
  }
 ],
 "metadata": {
  "kernelspec": {
   "display_name": "Python 3",
   "language": "python",
   "name": "python3"
  },
  "language_info": {
   "codemirror_mode": {
    "name": "ipython",
    "version": 3
   },
   "file_extension": ".py",
   "mimetype": "text/x-python",
   "name": "python",
   "nbconvert_exporter": "python",
   "pygments_lexer": "ipython3",
   "version": "3.8.8"
  }
 },
 "nbformat": 4,
 "nbformat_minor": 5
}
